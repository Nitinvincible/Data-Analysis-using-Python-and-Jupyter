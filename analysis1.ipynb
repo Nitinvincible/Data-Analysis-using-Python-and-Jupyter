{
 "cells": [
  {
   "cell_type": "code",
   "execution_count": 3,
   "metadata": {},
   "outputs": [
    {
     "name": "stdout",
     "output_type": "stream",
     "text": [
      "[[ 1  5  7  8  9]\n",
      " [ 2  4  9  6  7]\n",
      " [45  7  6  9 12]\n",
      " [15 36 24 35 14]]\n",
      "[[  5  25  35  40  45]\n",
      " [ 10  20  45  30  35]\n",
      " [225  35  30  45  60]\n",
      " [ 75 180 120 175  70]]\n",
      "[[ 10  50  70  80  90]\n",
      " [ 20  40  90  60  70]\n",
      " [450  70  60  90 120]\n",
      " [150 360 240 350 140]]\n",
      "[[0 0 0 0 0]\n",
      " [0 0 0 0 0]\n",
      " [0 0 0 0 0]\n",
      " [0 0 0 0 0]]\n",
      "[[0.4        0.08       0.05714286 0.05       0.04444444]\n",
      " [0.2        0.1        0.04444444 0.06666667 0.05714286]\n",
      " [0.00888889 0.05714286 0.06666667 0.04444444 0.03333333]\n",
      " [0.02666667 0.01111111 0.01666667 0.01142857 0.02857143]]\n",
      "[[     125    15625    42875    64000    91125]\n",
      " [    1000     8000    91125    27000    42875]\n",
      " [11390625    42875    27000    91125   216000]\n",
      " [  421875  5832000  1728000  5359375   343000]]\n"
     ]
    }
   ],
   "source": [
    "import numpy as np\n",
    "nr_array=np.array([[1,5,7,8,9], [2,4,9,6,7],[45,7,6,9,12],[15,36,24,35,14]])\n",
    "print(nr_array)\n",
    "arr=nr_array*5\n",
    "print(arr)\n",
    "#addition of arrays\n",
    "print(arr+arr)\n",
    "#subtraction of arrays \n",
    "print(arr-arr)\n",
    "#dividing 2by array\n",
    "print(2/arr)\n",
    "#array raising to the power 3\n",
    "print(arr**3)"
   ]
  },
  {
   "cell_type": "code",
   "execution_count": null,
   "metadata": {},
   "outputs": [],
   "source": [
    "'''Q2: Create a 1D array Arrb of size 20 of any values and perform following operations.\n",
    "a. Slice the first 4 elements and set them to 0 in the original Array.\n",
    "b. Slice the last 3 elements and set them 1 but not in the original array'''\n",
    "import numpy as np\n",
    "Arrb=np.arange(20)\n",
    "Arrb"
   ]
  },
  {
   "cell_type": "code",
   "execution_count": null,
   "metadata": {},
   "outputs": [],
   "source": [
    "#first 4 elements\n",
    "Arrb[0:4]"
   ]
  },
  {
   "cell_type": "code",
   "execution_count": null,
   "metadata": {},
   "outputs": [],
   "source": [
    "#assigning first 4 elements to 0\n",
    "Arrb[0:4]=0\n",
    "Arrb"
   ]
  },
  {
   "cell_type": "code",
   "execution_count": null,
   "metadata": {},
   "outputs": [],
   "source": [
    "#b. Slice the last 3 elements and set them 1 but not in the original array.\n",
    "Arrb[17:20]"
   ]
  },
  {
   "cell_type": "code",
   "execution_count": null,
   "metadata": {},
   "outputs": [],
   "source": [
    "Arrb[17:20]=1\n",
    "slice_of_a=Arrb[17:20]\n",
    "slice_of_a"
   ]
  },
  {
   "cell_type": "code",
   "execution_count": 1,
   "metadata": {},
   "outputs": [
    {
     "name": "stdout",
     "output_type": "stream",
     "text": [
      "[[89 25 36]\n",
      " [96 24 12]]\n",
      "[[15 48]\n",
      " [36 89]\n",
      " [36 96]\n",
      " [33 96]]\n",
      "[[12]\n",
      " [36]\n",
      " [12]\n",
      " [97]]\n",
      "[[65 12]\n",
      " [25 36]\n",
      " [24 12]]\n",
      "[[14]\n",
      " [66]]\n"
     ]
    }
   ],
   "source": [
    "'''Q3: Create a 2D array ‘Arrc’ with dimension 4 and 5 and print the elements of the shaded \n",
    "areas.'''\n",
    "import numpy as np\n",
    "Arrc=np.array ([[15,48,65,12,32],\n",
    "                [36,89,25,36,14],\n",
    "                [36,96,24,12,66],\n",
    "                [33,96,18,97,45]])\n",
    "Arrc\n",
    "print(Arrc[1:3,1:4])\n",
    "print(Arrc[0:4,0:2])\n",
    "print(Arrc[0:4,3:4])\n",
    "print(Arrc[0:3,2:4])\n",
    "print(Arrc[1:3,4:])"
   ]
  },
  {
   "cell_type": "code",
   "execution_count": null,
   "metadata": {},
   "outputs": [],
   "source": [
    "'''Q4: Create a multidimensional array of shape (4, 2, 5) and perform transpose operation with \n",
    "axes (2, 0, 1)'''\n",
    "M_array=np.arange(40).reshape(4,2,5)\n",
    "print(M_array)\n",
    "#transpose of array\n",
    "A1=M_array.transpose((2,0,1))\n",
    "print(A1)\n",
    "A2=M_array.swapaxes()"
   ]
  },
  {
   "cell_type": "code",
   "execution_count": 9,
   "metadata": {},
   "outputs": [
    {
     "name": "stdout",
     "output_type": "stream",
     "text": [
      "[12.06 11.03 32.21 18.25]\n",
      "[12 11 32 18]\n"
     ]
    }
   ],
   "source": [
    "#Q5: Create a float array and change its type into integer\n",
    "float_arrc=np.array([12.06, 11.03, 32.21, 18.25])\n",
    "print(float_arrc)\n",
    "a=float_arrc.astype(int)\n",
    "print(a)"
   ]
  },
  {
   "cell_type": "code",
   "execution_count": 17,
   "metadata": {},
   "outputs": [
    {
     "name": "stdout",
     "output_type": "stream",
     "text": [
      "[[21 26 32 30]\n",
      " [30 39 21 24]\n",
      " [13 26 29 26]]\n",
      "[[21 30 13]\n",
      " [26 39 26]\n",
      " [32 21 29]\n",
      " [30 24 26]]\n",
      "[[3041 3036 2657]\n",
      " [3036 3438 2637]\n",
      " [2657 2637 2362]]\n"
     ]
    }
   ],
   "source": [
    "#Q6: Create a 2D array ‘a1’ of shape (3,4) and find the dot product of a1 with a1.\n",
    "import numpy as np\n",
    "import numpy.ma as ma\n",
    "a1=np.random.randint(10,40,size=(3,4))\n",
    "print(a1)\n",
    "a1t=np.transpose(a1)\n",
    "print(a1t)\n",
    "print(np.dot(a1, a1t))\n"
   ]
  },
  {
   "cell_type": "code",
   "execution_count": 18,
   "metadata": {},
   "outputs": [
    {
     "name": "stdout",
     "output_type": "stream",
     "text": [
      "[[0 0 0 0]\n",
      " [0 0 0 0]]\n"
     ]
    }
   ],
   "source": [
    "#Q7: Create an array with all zeros of any size.\n",
    "trimo=np.zeros((2,4),dtype=\"int\")\n",
    "print(trimo)"
   ]
  },
  {
   "cell_type": "code",
   "execution_count": 26,
   "metadata": {},
   "outputs": [
    {
     "name": "stdout",
     "output_type": "stream",
     "text": [
      "[[1 0 0 0 0]\n",
      " [0 1 0 0 0]\n",
      " [0 0 1 0 0]\n",
      " [0 0 0 1 0]\n",
      " [0 0 0 0 1]]\n"
     ]
    }
   ],
   "source": [
    "# Q8: Create an identity array of any size.\n",
    "identity_matrix=np.identity(5,dtype=\"int\")\n",
    "print(identity_matrix)"
   ]
  },
  {
   "cell_type": "code",
   "execution_count": 41,
   "metadata": {},
   "outputs": [
    {
     "name": "stdout",
     "output_type": "stream",
     "text": [
      "[[-37  39  27 -25  67 -52 -76  44  30  27 -86 -59 -52 -72  34 -97 -93  30\n",
      "   68  93]]\n",
      "[[1369 1521  729  625 4489 2704 5776 1936  900  729 7396 3481 2704 5184\n",
      "  1156 9409 8649  900 4624 8649]]\n",
      "[[-37.  39.  27. -25.  67. -52. -76.  44.  30.  27. -86. -59. -52. -72.\n",
      "   34. -97. -93.  30.  68.  93.]]\n",
      "[[-37.  39.  27. -25.  67. -52. -76.  44.  30.  27. -86. -59. -52. -72.\n",
      "   34. -97. -93.  30.  68.  93.]]\n",
      "[[-1  1  1 -1  1 -1 -1  1  1  1 -1 -1 -1 -1  1 -1 -1  1  1  1]]\n",
      "[[37 39 27 25 67 52 76 44 30 27 86 59 52 72 34 97 93 30 68 93]]\n"
     ]
    }
   ],
   "source": [
    "'''Q9: Create an array of size 20 and apply the following functions:\n",
    "a. Square\n",
    "b. Ceil\n",
    "c. Floor\n",
    "d. Sign\n",
    "e. Abs'''\n",
    "dhoni=np.random.randint(-100,100,(1,20))\n",
    "print(dhoni)\n",
    "#will ouput the sqare of created array\n",
    "print(np.square(dhoni))\n",
    "'''will show the smallest integer greater than or equal to that number'''\n",
    "print(np.ceil(dhoni))\n",
    "#will show the largest integer less than or equal to each element)\n",
    "print(np.floor(dhoni))\n",
    "#will show the sign of each element: 1 (positive), 0 (zero), or –1 (negative)\n",
    "print(np.sign(dhoni))\n",
    "#will give the absolute value element-wise for integer, oating-point, or complex values\n",
    "print(np.abs(dhoni))"
   ]
  },
  {
   "cell_type": "code",
   "execution_count": 51,
   "metadata": {},
   "outputs": [
    {
     "name": "stdout",
     "output_type": "stream",
     "text": [
      "[27. 28. 29. 30. 31. 32. 33. 34. 35. 36.]\n",
      "[27. nan 29. 30. 31. nan 33. 34. nan 36.] \n",
      "\n",
      "[47. 48. 49. 50. 51. 52. 53. 54. 55. 56.]\n",
      "[nan 48. 49. nan 51. 52. nan 54. 55. 56.] \n",
      "\n",
      "[           nan            nan 4.54466522e+71            nan\n",
      " 1.14669095e+76            nan            nan 5.01027450e+82\n",
      "            nan 1.42213244e+87] \n",
      "\n",
      "27.0\n",
      "48.0 \n",
      "\n",
      "[27. 48. 29. 30. 31. 52. 33. 34. 55. 36.] \n",
      "\n",
      "[nan nan 49. nan 51. nan nan 54. nan 56.] \n",
      "\n",
      "[ nan  nan -20.  nan -20.  nan  nan -20.  nan -20.]\n",
      "[ nan  nan -20.  nan -20.  nan  nan -20.  nan -20.]\n"
     ]
    }
   ],
   "source": [
    "'''Q10: Create two arrays of same length, include NaN values and perform following \n",
    "operations\n",
    "a. raise elements in the first array to powers indicated in the second array.\n",
    "b. Perform element wise minimum and ignore NaN.\n",
    "c. Perform element wise maximum and do not ignore NaN.\n",
    "d. Subtract the two arrays elements wise.\n",
    "'''\n",
    "#first array\n",
    "A1=np.arange(27,37,dtype=\"float\")\n",
    "print(A1)\n",
    "#assigning various indexex to NaN\n",
    "A1[5]=np.NaN\n",
    "A1[1]=np.NaN\n",
    "A1[8]=np.NaN\n",
    "print(A1,'\\n')\n",
    "#2nd array\n",
    "A2=np.arange(47,57,dtype=\"float\")\n",
    "print(A2)\n",
    "#assigning various indexex to NaN\n",
    "A2[0]=np.NaN\n",
    "A2[3]=np.NaN\n",
    "A2[6]=np.NaN\n",
    "print(A2,'\\n')\n",
    "#creating new variable arr1\n",
    "#Raising the power \n",
    "arr1=np.power(A1,A2)\n",
    "print(arr1,'\\n')\n",
    "\n",
    "print(np.nanmin(A1))\n",
    "print(np.nanmin(A2),'\\n')\n",
    "#Elementwise minimum and ignore Nan\n",
    "print(np.fmin(A1,A2),'\\n')\n",
    "#Elementwisemaximum with Nan\n",
    "print(np.maximum(A1,A2),'\\n')\n",
    "#subtract the array  elementwise \n",
    "print(np.subtract(A1,A2))"
   ]
  },
  {
   "cell_type": "code",
   "execution_count": 56,
   "metadata": {},
   "outputs": [
    {
     "name": "stdout",
     "output_type": "stream",
     "text": [
      "[[5 7 7]\n",
      " [4 3 2]\n",
      " [5 7 5]]\n",
      "[[-5 -1 -1]\n",
      " [-5 -5 -5]\n",
      " [-5 -1 -5]]\n"
     ]
    }
   ],
   "source": [
    "'''Q11: create a two dimensional array of any dimension and replace the values less than 5 \n",
    " with -5 and greater than 5 with -1'''\n",
    "cosmo_array=np.random.randint(1,10,(3,3))\n",
    "print(cosmo_array) \n",
    "cosmo_array > 5\n",
    "x=np.where(cosmo_array > 5,-1,-5)\n",
    "print(x)"
   ]
  },
  {
   "cell_type": "code",
   "execution_count": 52,
   "metadata": {},
   "outputs": [
    {
     "name": "stdout",
     "output_type": "stream",
     "text": [
      "[[ 0 14  4 12 12]\n",
      " [-3 21 24  3 16]\n",
      " [-3  0  2  1 13]]\n",
      "[[ 0 14  4 12 12]\n",
      " [-3 35 28 15 28]\n",
      " [-6 35 30 16 41]]\n"
     ]
    }
   ],
   "source": [
    "#Q12: create a two dimensional array and find the sum across the column and down the rows.\n",
    "array_2=np.random.randint(-5,25,(3,5))\n",
    "print(array_2)\n",
    "print(array_2.cumsum(axis=0))"
   ]
  },
  {
   "cell_type": "code",
   "execution_count": 67,
   "metadata": {},
   "outputs": [
    {
     "name": "stdout",
     "output_type": "stream",
     "text": [
      "[[39 41 26 39]\n",
      " [26 13 14 14]\n",
      " [14 12 18 42]\n",
      " [38 21 26 14]]\n",
      "[[    39     41     26     39]\n",
      " [  1014    533    364    546]\n",
      " [ 14196   6396   6552  22932]\n",
      " [539448 134316 170352 321048]]\n"
     ]
    }
   ],
   "source": [
    "#Q13: Create a two dimensional array and find the cumulative product across the columns and down the rows.\n",
    "array_1 = np.random.randint(10,45,(4,4))\n",
    "print(array_1)\n",
    "# compute the cummulative product of 2D array\n",
    "#store the  comulative product in np_array_cumprod\n",
    "np_array_cumprod = np.cumprod(array_1, axis=0)\n",
    "\n",
    "print(np_array_cumprod)"
   ]
  },
  {
   "cell_type": "code",
   "execution_count": 3,
   "metadata": {},
   "outputs": [
    {
     "name": "stdout",
     "output_type": "stream",
     "text": [
      "[[ -6   7  -6   0]\n",
      " [  2 -10   3 -15]\n",
      " [-14 -14 -11 -15]\n",
      " [  4 -11  -1  11]]\n",
      "[[-14 -14 -11 -15]\n",
      " [ -6 -11  -6 -15]\n",
      " [  2 -10  -1   0]\n",
      " [  4   7   3  11]]\n",
      "[[-14 -14 -11 -15  -6 -11  -6 -15   2 -10  -1   0   4   7   3  11]]\n"
     ]
    }
   ],
   "source": [
    "'''Q14: Create a two dimensional array and sort the elements across the columns and down \n",
    "the rows. Also, sort all the elements and convert them into a one dimensional array.'''\n",
    "import numpy as np\n",
    "ps1=np.random.randint(-15,12,(4,4))\n",
    "print(ps1)\n",
    "ps1.sort(0)\n",
    "print(ps1)\n",
    "x=ps1.reshape(1,16)\n",
    "print(x)"
   ]
  },
  {
   "cell_type": "code",
   "execution_count": 92,
   "metadata": {},
   "outputs": [
    {
     "name": "stdout",
     "output_type": "stream",
     "text": [
      "[[19 13 -3 14 -1 18 19  8 13]]\n",
      "[[16 10  9 -2 -6 -1  6  1  1]]\n",
      "[-1]\n",
      "[-6 -3 -2 -1  1  6  8  9 10 13 14 16 18 19]\n",
      "[False False False False  True False False False False]\n",
      "[-3 -1  8 13 14 18 19]\n",
      "[-6 -3 -2  1  6  8  9 10 13 14 16 18 19]\n"
     ]
    }
   ],
   "source": [
    "'''Q15: Take two one dimensional arrays, x and y, and perform:\n",
    "a. Find common elements in x and y\n",
    "b. Find the sorted union of elements of x and y.\n",
    "c. Find a Boolean array indicating whether each element of x is contained in y\n",
    "d. Find elements in x that are not in y\n",
    "e. Find elements that are in either of the arrays, but not both'''\n",
    "#ist array\n",
    "x=np.random.randint(-10,20,(1,9))\n",
    "print(x)\n",
    "#2nd array\n",
    "y=np.random.randint(-10,20,(1,9))\n",
    "print(y)\n",
    "#showing common elements\n",
    "common_e=np.intersect1d(x,y)\n",
    "print(common_e)\n",
    "#sorted union of elements of x and y\n",
    "print(np.union1d(x,y)) \n",
    "#will show the boolean array indicating whether each element of x is contained in y\n",
    "print(np.in1d(x,y))\n",
    "#will find unique elements of x\n",
    "print(np.unique(x))\n",
    "#will give the universal elements\n",
    "print(np.setxor1d(x,y))"
   ]
  }
 ],
 "metadata": {
  "kernelspec": {
   "display_name": "Python 3.10.5 64-bit",
   "language": "python",
   "name": "python3"
  },
  "language_info": {
   "codemirror_mode": {
    "name": "ipython",
    "version": 3
   },
   "file_extension": ".py",
   "mimetype": "text/x-python",
   "name": "python",
   "nbconvert_exporter": "python",
   "pygments_lexer": "ipython3",
   "version": "3.10.5"
  },
  "orig_nbformat": 4,
  "vscode": {
   "interpreter": {
    "hash": "26de051ba29f2982a8de78e945f0abaf191376122a1563185a90213a26c5da77"
   }
  }
 },
 "nbformat": 4,
 "nbformat_minor": 2
}
